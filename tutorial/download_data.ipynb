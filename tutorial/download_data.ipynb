{
 "cells": [
  {
   "cell_type": "code",
   "execution_count": 1,
   "id": "932d3e7a",
   "metadata": {},
   "outputs": [],
   "source": [
    "import geoai"
   ]
  },
  {
   "cell_type": "code",
   "execution_count": 3,
   "id": "6f556b80",
   "metadata": {},
   "outputs": [],
   "source": [
    "import leafmap\n",
    "from geoai.download import (\n",
    "    download_naip,\n",
    "    download_overture_buildings,\n",
    "    extract_building_stats,\n",
    ")"
   ]
  },
  {
   "cell_type": "code",
   "execution_count": 6,
   "id": "d6d0ad0c",
   "metadata": {},
   "outputs": [
    {
     "data": {
      "application/vnd.jupyter.widget-view+json": {
       "model_id": "72e52579ca5f485a9052b6c817c4a179",
       "version_major": 2,
       "version_minor": 0
      },
      "text/plain": [
       "Map(center=[47.6526, -117.5923], controls=(ZoomControl(options=['position', 'zoom_in_text', 'zoom_in_title', '…"
      ]
     },
     "execution_count": 6,
     "metadata": {},
     "output_type": "execute_result"
    }
   ],
   "source": [
    "m = leafmap.Map(center=[47.6526, -117.5923], zoom=16)\n",
    "m.add_basemap(\"Esri.WorldImagery\")\n",
    "m"
   ]
  },
  {
   "cell_type": "code",
   "execution_count": 7,
   "id": "dc951c2d",
   "metadata": {},
   "outputs": [
    {
     "data": {
      "text/plain": [
       "[-117.5983, 47.6489, -117.584, 47.656]"
      ]
     },
     "execution_count": 7,
     "metadata": {},
     "output_type": "execute_result"
    }
   ],
   "source": [
    "bbox = m.user_roi_bounds()\n",
    "bbox"
   ]
  },
  {
   "cell_type": "code",
   "execution_count": 8,
   "id": "5584f917",
   "metadata": {},
   "outputs": [
    {
     "name": "stdout",
     "output_type": "stream",
     "text": [
      "Found 1 NAIP items.\n",
      "Downloading item 1/1: m_4711720_sw_11_060_20230701_20230911.tif\n"
     ]
    },
    {
     "name": "stderr",
     "output_type": "stream",
     "text": [
      "m_4711720_sw_11_060_20230701_20230911.tif: 100%|██████████| 342M/342M [02:39<00:00, 2.24MiB/s] "
     ]
    },
    {
     "name": "stdout",
     "output_type": "stream",
     "text": [
      "Successfully saved to data/m_4711720_sw_11_060_20230701_20230911.tif\n",
      "Download 1 NAIP images.\n"
     ]
    },
    {
     "name": "stderr",
     "output_type": "stream",
     "text": [
      "\n"
     ]
    }
   ],
   "source": [
    "download_file = download_naip(\n",
    "    bbox=bbox,\n",
    "    year=2023,\n",
    "    output_dir=\"data\",\n",
    "    max_items=1,\n",
    ")\n",
    "print(f\"Download {len(download_file)} NAIP images.\")"
   ]
  },
  {
   "cell_type": "code",
   "execution_count": 13,
   "id": "d46e729c",
   "metadata": {},
   "outputs": [
    {
     "name": "stdout",
     "output_type": "stream",
     "text": [
      "Download 671 Overture buildings.\n"
     ]
    }
   ],
   "source": [
    "data_file = download_overture_buildings(\n",
    "    bbox=bbox,\n",
    "    output=\"buildings.geojson\",\n",
    ")\n",
    "print(f\"Download {len(data_file)} Overture buildings.\")"
   ]
  },
  {
   "cell_type": "code",
   "execution_count": 15,
   "id": "0d37da3c",
   "metadata": {},
   "outputs": [
    {
     "data": {
      "application/vnd.jupyter.widget-view+json": {
       "model_id": "997ebe9c5d0b4120b65642ea56d14ae8",
       "version_major": 2,
       "version_minor": 0
      },
      "text/plain": [
       "Map(center=[47.656245, -117.59382049999999], controls=(ZoomControl(options=['position', 'zoom_in_text', 'zoom_…"
      ]
     },
     "execution_count": 15,
     "metadata": {},
     "output_type": "execute_result"
    }
   ],
   "source": [
    "m = leafmap.Map()\n",
    "m.add_raster(\"data/m_4711720_sw_11_060_20230701_20230911.tif\", layer_name=\"NAIP 2023\")\n",
    "m.add_geojson(\"buildings.geojson\", layer_name=\"Overture Buildings\")\n",
    "m"
   ]
  },
  {
   "cell_type": "code",
   "execution_count": null,
   "id": "8023f837",
   "metadata": {},
   "outputs": [],
   "source": []
  },
  {
   "cell_type": "code",
   "execution_count": null,
   "id": "5d6fc054",
   "metadata": {},
   "outputs": [],
   "source": []
  },
  {
   "cell_type": "code",
   "execution_count": null,
   "id": "f9bd45e4",
   "metadata": {},
   "outputs": [],
   "source": []
  },
  {
   "cell_type": "code",
   "execution_count": null,
   "id": "6dd547ba",
   "metadata": {},
   "outputs": [],
   "source": []
  }
 ],
 "metadata": {
  "kernelspec": {
   "display_name": "geoai",
   "language": "python",
   "name": "python3"
  },
  "language_info": {
   "codemirror_mode": {
    "name": "ipython",
    "version": 3
   },
   "file_extension": ".py",
   "mimetype": "text/x-python",
   "name": "python",
   "nbconvert_exporter": "python",
   "pygments_lexer": "ipython3",
   "version": "3.13.5"
  }
 },
 "nbformat": 4,
 "nbformat_minor": 5
}
